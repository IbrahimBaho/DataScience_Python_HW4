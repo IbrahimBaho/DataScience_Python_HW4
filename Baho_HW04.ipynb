{
 "cells": [
  {
   "cell_type": "markdown",
   "metadata": {},
   "source": [
    "Q1) (40 points) Write a Python script to perform the tasks in Q1 and Q3 from homework assignment 3 using numpy. Your program should accept the path to the file to read (example: C:\\Documents\\random.txt). Don’t submit the provided input file (random.txt) with your notebook. "
   ]
  },
  {
   "cell_type": "markdown",
   "metadata": {},
   "source": [
    "HW03 -Q1) Write a Python script to read the given text file called random.txt. The text file contains 1,000 random numbers collected from 5 different methods to generate random numbers. Each method generated 1,000 numbers. The first line is the header contains the name of the 5 methods used. Starting from the second line, every line is 5 random values, separated by a comma, come from the 5 methods. Therefore, each column in the text file is the 1,000 numbers coming from one method. Your program needs to read the file and calculate the summary statistics for each method (column). The summary statistics include (in order): max, min, mean, standard deviation, median, percentile 75, percentile 25. You have to write your own functions to calculate the above statistics.\n",
    "\n",
    "-Q3) Write a python program to scale the numbers in random.txt for each method to integers in [0, 9] and then count the number of occurrence of each integer in the range [0, 9]. To scale the random number x use the formula round(9*(x - min)/(max - min)). Print out the frequencies of the range [0, 9] of each method on the screen. An example of a neat output is "
   ]
  },
  {
   "cell_type": "code",
   "execution_count": 7,
   "metadata": {},
   "outputs": [
    {
     "name": "stdout",
     "output_type": "stream",
     "text": [
      "Enter the path to the file: das\n",
      "Q1)\n",
      "\t\t methodA    methodB    methodC    methodD    methodE   \n",
      "Max:               9.00      14.85      12.00      17.42       9.00\n",
      "Min:               0.00      -4.33       0.60     -11.50       0.01\n",
      "Mean:              4.58       5.03       3.03       4.61       4.50\n",
      "Stand Deviation:   2.85       2.96       1.51       4.55       2.62\n",
      "Median:            4.00       5.06       2.71       4.82       4.51\n",
      "percentile 25:     2.00       2.97       1.97       1.56       2.17\n",
      "percentile 75:     7.00       7.04       3.68       7.69       6.79\n",
      "\n",
      "Q3)\n",
      "methodA   78  109   99  112  108   89   93  107   93  112\n",
      "methodB    1   19   74  164  263  268  146   54    9    2\n",
      "methodD    2    9   26  111  207  264  230  121   27    3\n",
      "methodC   46  376  346  141   47   27   12    2    2    1\n",
      "methodE   63  118  106   99  114  109  110  107  126   48\n"
     ]
    }
   ],
   "source": [
    "import numpy as np\n",
    "\n",
    "def scale(mylist):\n",
    "    values = { 0:0,1:0,2:0,3:0,4:0,5:0,6:0,7:0,8:0,9:0 }\n",
    "    for num in mylist:\n",
    "        val = round(9*(float(num) - min(mylist))/(max(mylist) - min(mylist)))\n",
    "        values[val] += 1\n",
    "\n",
    "    return values\n",
    "\n",
    "path = input(\"Enter the path to the file: \")\n",
    "\n",
    "with open(path) as f:\n",
    "    text = np.loadtxt(f, delimiter=',', skiprows=1)\n",
    "\n",
    "Max = text.max(axis=0)\n",
    "Min = text.min(axis=0)\n",
    "Mean = np.mean(text, axis=0)\n",
    "Sd = np.std(text, axis=0)\n",
    "Median = np.median(text, axis=0)\n",
    "P25 = np.percentile(text,25,axis=0)\n",
    "P75 = np.percentile(text,75,axis=0)\n",
    "print(\"Q1)\\n\\t\\t {:10s} {:10s} {:10s} {:10s} {:10s}\".format(\"methodA\", \"methodB\", \"methodC\", \"methodD\", \"methodE\"))\n",
    "print(\"Max: {0:18.2f} {1:10.2f} {2:10.2f} {3:10.2f} {4:10.2f}\".format(Max[0],Max[1],Max[2],Max[3],Max[4] ))\n",
    "print(\"Min: {0:18.2f} {1:10.2f} {2:10.2f} {3:10.2f} {4:10.2f}\".format(Min[0],Min[1],Min[2],Min[3],Min[4] ))\n",
    "print(\"Mean: {0:17.2f} {1:10.2f} {2:10.2f} {3:10.2f} {4:10.2f}\".format(Mean[0],Mean[1],Mean[2],Mean[3],Mean[4]))\n",
    "print(\"Stand Deviation: {0:6.2f} {1:10.2f} {2:10.2f} {3:10.2f} {4:10.2f}\".format(Sd[0],Sd[1],Sd[2],Sd[3],Sd[4]))\n",
    "print(\"Median: {0:15.2f} {1:10.2f} {2:10.2f} {3:10.2f} {4:10.2f}\".format(Median[0],Median[1],Median[2],Median[3],Median[4]))\n",
    "print(\"percentile 25: {0:8.2f} {1:10.2f} {2:10.2f} {3:10.2f} {4:10.2f}\".format(P25[0],P25[1],P25[2],P25[3],P25[4]))\n",
    "print(\"percentile 75: {0:8.2f} {1:10.2f} {2:10.2f} {3:10.2f} {4:10.2f}\".format(P75[0],P75[1],P75[2],P75[3],P75[4]))\n",
    "\n",
    "#sca = np.apply_along_axis(scale, axis=0, arr=text)\n",
    "a = scale(text[...,0])\n",
    "b = scale(text[...,1])\n",
    "c = scale(text[...,2])\n",
    "d = scale(text[...,3])\n",
    "e = scale(text[...,4])\n",
    "print(\"\\nQ3)\")\n",
    "print(\"{:s} {:4d} {:4d} {:4d} {:4d} {:4d} {:4d} {:4d} {:4d} {:4d} {:4d}\".format(\"methodA\", a[0],a[1],a[2],a[3],a[4],a[5],a[6],a[7],a[8],a[9]))\n",
    "print(\"{:s} {:4d} {:4d} {:4d} {:4d} {:4d} {:4d} {:4d} {:4d} {:4d} {:4d}\".format(\"methodB\", b[0],b[1],b[2],b[3],b[4],b[5],b[6],b[7],b[8],b[9]))\n",
    "print(\"{:s} {:4d} {:4d} {:4d} {:4d} {:4d} {:4d} {:4d} {:4d} {:4d} {:4d}\".format(\"methodD\", d[0],d[1],d[2],d[3],d[4],d[5],d[6],d[7],d[8],d[9]))\n",
    "print(\"{:s} {:4d} {:4d} {:4d} {:4d} {:4d} {:4d} {:4d} {:4d} {:4d} {:4d}\".format(\"methodC\", c[0],c[1],c[2],c[3],c[4],c[5],c[6],c[7],c[8],c[9]))\n",
    "print(\"{:s} {:4d} {:4d} {:4d} {:4d} {:4d} {:4d} {:4d} {:4d} {:4d} {:4d}\".format(\"methodE\", e[0],e[1],e[2],e[3],e[4],e[5],e[6],e[7],e[8],e[9]))\n",
    "\n",
    "\n",
    "\n"
   ]
  },
  {
   "cell_type": "markdown",
   "metadata": {},
   "source": [
    "Q2) (60 points) In this question we will be analyzing the Behavioral Risk Factor Surveillance System (BRFSS) weight vs. height data. The data can be found in the fixed-width ASCII file called CDBRFS08.ASC.gz. For this analysis, we are interested in five (5) pieces of data: age, current weight (cw), weight a year ago (waya), height, and gender. Please refer to the guideline of the given dataset at https://www.cdc.gov/brfss/annual_data/2008/pdf/codebook08.pdf. Based on the guideline, these data can be found in the following columns: age (101-102), current weight (119-122), weight a year ago (127130), height (123-126), and gender (143,143). \n",
    "Your program should accept the path to the file to read (example: C:\\Documents\\CDBRFS08.ASC.gz). Don’t submit the provided input file (CDBRFS08.ASC.gz) with your notebook. \n",
    "Use the following line code to open the file as zipped file: gzip.open(yourFile, ‘rt’). Where ‘rt’ is used to open the file and read it as a text file. Import gzip to be able to use the command. \n",
    "Create a numby array of five (5) columns to maintain the data. \n",
    "Clean the data by removing any invalid or missing entry. Refer to the guideline for more information about the invalid/missing data. Delete all rows contain any invalid/missing data. For example: The only valid entries for cw are the values 50-0999 and 9000-9998. \n",
    "-Convert weights to kg (lb/2.2) and round it up to 1 decimal point. Convert the height to centimeters (feet*30.48 + inches*2.54) and round it down to the integer number (<=0.5 truncate, otherwise round the fraction up)"
   ]
  },
  {
   "cell_type": "markdown",
   "metadata": {},
   "source": [
    "a) (10 points) Your final cleaned/converted array will have 385,974 entries/rows. \n",
    "Here are the first 15 rows of the array for your reference. Print same information. "
   ]
  },
  {
   "cell_type": "code",
   "execution_count": 48,
   "metadata": {
    "scrolled": true
   },
   "outputs": [
    {
     "name": "stdout",
     "output_type": "stream",
     "text": [
      "Enter the path to the file: ds\n",
      "The first 15 rows after converting: \n",
      " [[ 39.   88.6  88.6 180.    1. ]\n",
      " [ 64.   75.   84.5 155.    2. ]\n",
      " [ 51.  100.  100.  183.    1. ]\n",
      " [ 35.   63.6  61.4 170.    2. ]\n",
      " [ 62.   70.5  70.5 173.    2. ]\n",
      " [ 64.   63.6  63.6 157.    2. ]\n",
      " [ 55.   82.7  82.7 155.    2. ]\n",
      " [ 71.   59.1  56.8 155.    2. ]\n",
      " [ 21.   81.8  86.4 180.    1. ]\n",
      " [ 45.   90.9  90.9 165.    2. ]\n",
      " [ 53.   51.8  51.8 163.    2. ]\n",
      " [ 51.   56.8  59.1 155.    2. ]\n",
      " [ 70.  105.5 112.7 170.    2. ]\n",
      " [ 59.   84.1  84.1 165.    2. ]\n",
      " [ 59.  131.8 129.5 191.    1. ]] 385974 float64\n"
     ]
    }
   ],
   "source": [
    "import numpy as np\n",
    "import gzip\n",
    "import re\n",
    "\n",
    "pfile = input(\"Enter the path to the file: \")\n",
    "infile = gzip.open(pfile, 'rt')\n",
    "\n",
    "age = []; cw = []; waya = []; ht = []; gender = []; data = []\n",
    "\n",
    "for line in infile:\n",
    "    age += [line[100:102]]\n",
    "    cw += [line[118:122]]\n",
    "    ht += [line[122:126]]\n",
    "    waya += [line[126:130]]\n",
    "    gender += [line[142]]\n",
    "\n",
    "data = list(zip(age, cw, waya, ht, gender)) #put alltogether\n",
    "\n",
    "npdata = np.array(data)         #create a Numpy array\n",
    "\n",
    "compiled_pattern = re.compile('[ \\t]+')\n",
    "age_list = []\n",
    "cw_list = []\n",
    "waya_list = []\n",
    "height_list = []\n",
    "\n",
    "for j in range(len(npdata)):\n",
    "    if (npdata[j,0] == '07') or (npdata[j,0] == '09'):\n",
    "        age_list.append(int(j))\n",
    "npdata = np.delete(npdata,age_list,axis=0)\n",
    "\n",
    "for j in range(len(npdata)):\n",
    "    if (npdata[j,1] == '7777') or (npdata[j,1] == '9999') or re.search(compiled_pattern, npdata[j,1]) or (0<int(npdata[j,1])<50) or (1000<int(npdata[j,1])<9000) or int(npdata[j,1])>9999:\n",
    "        cw_list.append(int(j))\n",
    "npdata = np.delete(npdata,cw_list,axis=0)\n",
    "\n",
    "for j in range(len(npdata)):\n",
    "    if (npdata[j,2] == '7777') or (npdata[j,2] == '9999') or re.search(compiled_pattern, npdata[j,2]) or (0<int(npdata[j,2])<50) or (1000<int(npdata[j,2])<9000) or int(npdata[j,2])>9999:\n",
    "        waya_list.append(int(j))\n",
    "npdata = np.delete(npdata,waya_list,axis=0)\n",
    "\n",
    "for j in range(len(npdata)):\n",
    "    if (npdata[j,3] == '7777') or (npdata[j,3] == '9999') or re.search(compiled_pattern, npdata[j,3]) or (0<int(npdata[j,3])<200) or (711<int(npdata[j,3])<9000):\n",
    "        height_list.append(int(j))\n",
    "npdata = np.delete(npdata,height_list,axis=0)\n",
    "#print(\"lenth after height deleted: \", len(npdata))\n",
    "\n",
    "#print(\"lenth after everything is cleared: \", len(npdata))\n",
    "#print(\"The first 15 rows after clearing: \\n\", npdata[:15])\n",
    "\n",
    "npdata = npdata.astype(np.float64)\n",
    "# converting pound to kg for weight and WAYA:\n",
    "for i in range(len(npdata)):\n",
    "    if npdata[i,1] <9000:\n",
    "        npdata[i,1] = np.round(npdata[i,1]/2.2,1)\n",
    "    else:\n",
    "        npdata[i,1] -= 9000\n",
    "for i in range(len(npdata)):\n",
    "    if npdata[i,2] < 9000:\n",
    "        npdata[i,2] = np.round(npdata[i,2]/2.2,1)\n",
    "    else:\n",
    "        npdata[i,2] -= 9000       \n",
    "        \n",
    "# converting height to cm (feet*30.48 + inches*2.54):    0-/-- = feet/inch\n",
    "for i in range(len(npdata)):\n",
    "    if 200<= npdata[i,3] <=711 :\n",
    "        num = str(npdata[i,3])\n",
    "        npdata[i,3] = np.trunc((int(num[0])*30.48 + int(num[1:3])*2.54)+0.5)\n",
    "    else:\n",
    "        npdata[i,3] -= 9000\n",
    "\n",
    "#npdata.round(1, npdata)     #round all at once\n",
    "print(\"The first 15 rows after converting: \\n\", npdata[:15], len(npdata) ,npdata.dtype)\n"
   ]
  },
  {
   "cell_type": "markdown",
   "metadata": {},
   "source": [
    "b) (10 points) Produce summary statistics for cw, waya, and height (mean, standard deviation, range, and median). Round the final answer to two (2) decimal places. Sample output: \n",
    "cw:\n",
    "    mean: 79.06  std: 19.51  range: 280.0  median: 77.3 \n",
    "waya:         \n",
    "    mean: 79.8  std: 20.58  range: 319.6  median: 77.3 \n",
    "height:         \n",
    "    mean: 169.01  std: 10.39  range: 175.0  median: 168.0 "
   ]
  },
  {
   "cell_type": "code",
   "execution_count": 47,
   "metadata": {},
   "outputs": [
    {
     "name": "stdout",
     "output_type": "stream",
     "text": [
      "CW:\n",
      "   Mean:79.06 \t STD:19.51 \t Range:280.00 \t Median:77.30 \n",
      "WAYA:\n",
      "   Mean:79.80 \t STD:20.58 \t Range:319.60 \t Median:77.30 \n",
      "Height:\n",
      "   Mean:169.01 \t STD:10.39 \t Range:175.00 \t Median:168.00 \n"
     ]
    }
   ],
   "source": [
    "\n",
    "cw_sd = np.std(npdata[...,1], ddof=0).round(2)\n",
    "cw_mean = np.mean(npdata[...,1]).round(2)\n",
    "cw_range = (max(npdata[...,1]) - min(npdata[...,1]))\n",
    "cw_median = np.median(npdata[...,1]).round(2)\n",
    "print(\"CW:\\n   Mean:{0:4.2f} \\t STD:{1:4.2f} \\t Range:{2:4.2f} \\t Median:{3:4.2f} \".format(cw_mean,cw_sd, cw_range,cw_median))\n",
    "\n",
    "waya_sd = np.std(npdata[...,2], ddof=0).round(2)\n",
    "waya_mean = np.mean(npdata[...,2]).round(2)\n",
    "waya_range = (max(npdata[...,2]) - min(npdata[...,2]))\n",
    "waya_median = np.median(npdata[...,2]).round(2)\n",
    "print(\"WAYA:\\n   Mean:{0:4.2f} \\t STD:{1:4.2f} \\t Range:{2:4.2f} \\t Median:{3:4.2f} \".format(waya_mean,waya_sd, waya_range,waya_median))\n",
    "\n",
    "\n",
    "height_sd = np.std(npdata[...,3], ddof=0).round(2)\n",
    "height_mean = np.mean(npdata[...,3]).round(2)\n",
    "height_range = (max(npdata[...,3]) - min(npdata[...,3]))\n",
    "height_median = np.median(npdata[...,3]).round(2)\n",
    "print(\"Height:\\n   Mean:{0:4.2f} \\t STD:{1:4.2f} \\t Range:{2:4.2f} \\t Median:{3:4.2f} \".format(height_mean,height_sd, height_range,height_median))\n",
    "\n"
   ]
  },
  {
   "cell_type": "markdown",
   "metadata": {},
   "source": [
    "c) (5 points) How many entries are females younger (<) than 40?  Sample output: Number of females under 40:  xxxx "
   ]
  },
  {
   "cell_type": "code",
   "execution_count": 45,
   "metadata": {},
   "outputs": [
    {
     "name": "stdout",
     "output_type": "stream",
     "text": [
      "Number of females under 40:  47153\n"
     ]
    }
   ],
   "source": [
    "\n",
    "ppl_less40 = npdata[npdata[...,0]<40][...,4]\n",
    "num_fem_less40 = len(ppl_less40[ppl_less40[:]==2])\n",
    "print(\"Number of females under 40: \",num_fem_less40)"
   ]
  },
  {
   "cell_type": "markdown",
   "metadata": {},
   "source": [
    "d) (5 points) How many male is within 1 std (<=) in height from the mean of the entire set and from the mean of male entries? Sample output: \n",
    "    Number of males within 1 std in height from the mean of entire set: xxxxx \n",
    "    Number of males within 1 std in height from the mean of males: xxxxx "
   ]
  },
  {
   "cell_type": "code",
   "execution_count": 35,
   "metadata": {},
   "outputs": [
    {
     "name": "stdout",
     "output_type": "stream",
     "text": [
      "Number of males within 1 std in height from the mean of entire set:  79974\n",
      "Number of males within 1 std in height from the mean of males:  104193\n"
     ]
    }
   ],
   "source": [
    "male_heights = npdata[npdata[...,4]==1][...,3]\n",
    "std_male_height = np.std(male_heights[:])\n",
    "mean_male_height = np.mean(male_heights[:])\n",
    "\n",
    "num1 = np.count_nonzero(abs(male_heights - height_mean)<=height_sd)\n",
    "num2 = np.count_nonzero(abs(male_heights - mean_male_height)<=std_male_height)\n",
    "\n",
    "print(\"Number of males within 1 std in height from the mean of entire set: \",num1)\n",
    "print(\"Number of males within 1 std in height from the mean of males: \",num2)\n",
    "\n"
   ]
  },
  {
   "cell_type": "markdown",
   "metadata": {},
   "source": [
    "e) (5 points) How many outlier entries we have for waya for females? \n",
    "Sample output: \n",
    "    Number of outlier female entries in waya: xxxxx "
   ]
  },
  {
   "cell_type": "code",
   "execution_count": 12,
   "metadata": {},
   "outputs": [
    {
     "name": "stdout",
     "output_type": "stream",
     "text": [
      "Number of outlier female entries in waya:  7787\n"
     ]
    }
   ],
   "source": [
    "waya_fem = npdata[npdata[...,4]==2][...,2]\n",
    "\n",
    "#calculate quartiles q1,q3 \n",
    "q1 = np.percentile(waya_fem[:], 25) \n",
    "q3 = np.percentile(waya_fem[:], 75) \n",
    "#calculate the interquartile range \n",
    "IQR = q3-q1 \n",
    "#calculates lower and upper fences \n",
    "lfence = q1 - IQR*1.5 \n",
    "ufence = q3 + IQR*1.5 \n",
    "#find the number of outlier countries \n",
    "num = np.logical_or(waya_fem[:]<lfence, waya_fem[:]>ufence).sum() \n",
    "print(\"Number of outlier female entries in waya: \", num)"
   ]
  },
  {
   "cell_type": "markdown",
   "metadata": {},
   "source": [
    "f) (5 points) Find the coefficient of variation for cw. \n",
    "Sample output: \n",
    "    Coefficient variation (CV) for cw: xx.xx% "
   ]
  },
  {
   "cell_type": "code",
   "execution_count": 14,
   "metadata": {},
   "outputs": [
    {
     "name": "stdout",
     "output_type": "stream",
     "text": [
      "Coefficient variation (CV) for cw: 24.68%\n"
     ]
    }
   ],
   "source": [
    "#CV = std/mean * 100% \n",
    "CV =  cw_sd/cw_mean \n",
    "print(\"Coefficient variation (CV) for cw: {:.2%}\".format(CV))"
   ]
  },
  {
   "cell_type": "markdown",
   "metadata": {},
   "source": [
    "g) (5 points) Which group has less variation in cw, male or female? Why? Support your answer with numbers. \n",
    "Sample output: \n",
    "    female/male group has less variation Print out the numbers you used to conclude. "
   ]
  },
  {
   "cell_type": "code",
   "execution_count": 17,
   "metadata": {},
   "outputs": [
    {
     "name": "stdout",
     "output_type": "stream",
     "text": [
      "Coefficient variation for male cw: 20.42%\n",
      "Coefficient variation for female cw: 24.15%\n",
      "We can see that male (with CV=20.42% ) have considerably less variation than female (with CV=24.15%)\n"
     ]
    }
   ],
   "source": [
    "male_cw = npdata[npdata[...,4]==1][...,1]\n",
    "CV_male = np.std(male_cw) / np.mean(male_cw)\n",
    "fem_cw = npdata[npdata[...,4]==2][...,1]\n",
    "CV_fem = np.std(fem_cw) / np.mean(fem_cw)\n",
    "print(\"Coefficient variation for male cw: {:.2%}\".format(CV_male))\n",
    "print(\"Coefficient variation for female cw: {:.2%}\".format(CV_fem))\n",
    "print(\"We can see that male (with CV=20.42% ) have considerably less variation than female (with CV=24.15%)\")"
   ]
  },
  {
   "cell_type": "markdown",
   "metadata": {},
   "source": [
    "h)  (5 points) Do males tend to gain more weight when they are older than (>) 40 compared to those who are younger? \n",
    "Use cw to find out. Support your answer with numbers. \n",
    "Sample output: \n",
    "    yes/no. Because …… print out the numbers you used to conclude. "
   ]
  },
  {
   "cell_type": "code",
   "execution_count": 31,
   "metadata": {},
   "outputs": [
    {
     "name": "stdout",
     "output_type": "stream",
     "text": [
      "mean of current weight for male less than 40:  88.56\n",
      "mean of current weight for male over than 40: 89.21\n",
      "Yes, male tend to gain weight over 40,\n",
      "Because the avg weight for male over 40 is greater than the avg weight for male less than 40 years old\n",
      "for male over 40years (89.21)  >  for male less than 40years (88.56)\n"
     ]
    }
   ],
   "source": [
    "cw_male_less40 = npdata[np.logical_and(npdata[...,0]<=40,npdata[...,4]==1)][...,1]\n",
    "cw_male_over40 = npdata[np.logical_and(npdata[...,0]>40,npdata[...,4]==1)][...,1]\n",
    "\n",
    "\n",
    "cw_mean_male_less40 = np.mean(cw_male_less40[:]).round(2)\n",
    "cw_mean_male_over40 = np.mean(cw_male_over40[:]).round(2)\n",
    "print(\"mean of current weight for male less than 40: \",cw_mean_male_less40)\n",
    "print(\"mean of current weight for male over than 40:\",cw_mean_male_over40)\n",
    "\n",
    "print(\"Yes, male tend to gain weight over 40,\\nBecause the avg weight for male over 40 is greater than the avg weight for male less than 40 years old\")\n",
    "print(\"for male over 40years (89.21)  >  for male less than 40years (88.56)\")"
   ]
  },
  {
   "cell_type": "markdown",
   "metadata": {},
   "source": [
    "i) (10 points) Define weight change (delta_w) = cw – waya. Calculate correlation between delta_w and the following variables, and determine which one is most correlated (regardless of the sign of correlation) with delta_w:\n",
    "a) cw, b) waya, c) height, and d) age.  \n",
    "Sample output: \n",
    "    the most correlated variable is x because …… here are the numbers \n",
    "    Corr. Coef. delta and cw: x \n",
    "    Corr. Coef delta and waya: x \n",
    "    Corr. Coef. delta and height: x \n",
    "    Corr. Coef. delta and age: x "
   ]
  },
  {
   "cell_type": "code",
   "execution_count": 44,
   "metadata": {},
   "outputs": [
    {
     "name": "stdout",
     "output_type": "stream",
     "text": [
      "Corr. Coef. delta and cw:  0.034\n",
      "Corr. Coef delta and waya:  -0.319\n",
      "Corr. Coef. delta and height:  -0.012\n",
      "Corr. Coef. delta and age:  -0.069\n",
      "The most correlated variable is the WAYA because the Corr. Coef. is larger between this variable and delta_w than Corr. Coef. between other variables and delta_w\n"
     ]
    }
   ],
   "source": [
    "delta_w =  np.subtract(npdata[...,1], npdata[...,2])\n",
    "\n",
    "CC_DeltaCW = np.corrcoef(delta_w, npdata[...,1])[0,1]\n",
    "print(\"Corr. Coef. delta and cw: \" ,round(CC_DeltaCW,3))\n",
    "\n",
    "CC_DeltaWAYA = np.corrcoef(delta_w, npdata[...,2] )[0,1]\n",
    "print(\"Corr. Coef delta and waya: \",round(CC_DeltaWAYA,3))\n",
    "\n",
    "CC_DeltaHI = np.corrcoef(delta_w, npdata[...,3])[0,1]\n",
    "print(\"Corr. Coef. delta and height: \",round(CC_DeltaHI,3))\n",
    "\n",
    "CC_DeltaAGE = np.corrcoef(delta_w, npdata[...,0])[0,1]\n",
    "print(\"Corr. Coef. delta and age: \",round(CC_DeltaAGE,3))\n",
    "\n",
    "print(\"The most correlated variable is the WAYA because the correlation coefficient of (-0.319) is larger between this variable and delta_w than Corr. Coef. between other variables and delta_w\")"
   ]
  }
 ],
 "metadata": {
  "kernelspec": {
   "display_name": "Python 3",
   "language": "python",
   "name": "python3"
  },
  "language_info": {
   "codemirror_mode": {
    "name": "ipython",
    "version": 3
   },
   "file_extension": ".py",
   "mimetype": "text/x-python",
   "name": "python",
   "nbconvert_exporter": "python",
   "pygments_lexer": "ipython3",
   "version": "3.7.1"
  }
 },
 "nbformat": 4,
 "nbformat_minor": 2
}
